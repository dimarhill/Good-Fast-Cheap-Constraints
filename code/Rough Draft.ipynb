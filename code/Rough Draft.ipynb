{
 "cells": [
  {
   "cell_type": "code",
   "execution_count": 58,
   "id": "124d55c1",
   "metadata": {},
   "outputs": [],
   "source": [
    "import pandas as pd\n",
    "import numpy as np\n",
    "import seaborn as sns\n",
    "\n",
    "import matplotlib.pyplot as plt\n",
    "from sklearn.model_selection import train_test_split, GridSearchCV, cross_val_score\n",
    "from sklearn.pipeline import Pipeline\n",
    "from sklearn.naive_bayes import MultinomialNB\n",
    "from sklearn.linear_model import LogisticRegression\n",
    "from sklearn.metrics import confusion_matrix, plot_confusion_matrix\n",
    "from sklearn.tree import DecisionTreeClassifier\n",
    "from sklearn.metrics import confusion_matrix, plot_confusion_matrix, accuracy_score, plot_roc_curve, roc_auc_score, recall_score, precision_score, f1_score\n",
    "from sklearn.ensemble import AdaBoostClassifier, GradientBoostingClassifier\n",
    "from sklearn.ensemble import RandomForestClassifier, RandomForestRegressor, ExtraTreesClassifier\n",
    "from sklearn.ensemble import BaggingClassifier, VotingClassifier\n"
   ]
  },
  {
   "cell_type": "code",
   "execution_count": 59,
   "id": "474114d6",
   "metadata": {},
   "outputs": [],
   "source": [
    "df = pd.read_csv('../data/large_train_sample.csv')"
   ]
  },
  {
   "cell_type": "code",
   "execution_count": 60,
   "id": "6e75f332",
   "metadata": {},
   "outputs": [],
   "source": [
    "\n",
    "\n",
    "\n",
    "\n",
    "\n",
    "df['net-capital'] = df['capital-gain'] - df['capital-loss']\n",
    "df['native-us'] = np.where(df['native-country']== ' United-States', 1, 0)\n",
    "df.drop(columns=['education','capital-gain','capital-loss','native-country'],inplace=True)"
   ]
  },
  {
   "cell_type": "code",
   "execution_count": 61,
   "id": "85746d85",
   "metadata": {},
   "outputs": [
    {
     "data": {
      "text/html": [
       "<div>\n",
       "<style scoped>\n",
       "    .dataframe tbody tr th:only-of-type {\n",
       "        vertical-align: middle;\n",
       "    }\n",
       "\n",
       "    .dataframe tbody tr th {\n",
       "        vertical-align: top;\n",
       "    }\n",
       "\n",
       "    .dataframe thead th {\n",
       "        text-align: right;\n",
       "    }\n",
       "</style>\n",
       "<table border=\"1\" class=\"dataframe\">\n",
       "  <thead>\n",
       "    <tr style=\"text-align: right;\">\n",
       "      <th></th>\n",
       "      <th>age</th>\n",
       "      <th>workclass</th>\n",
       "      <th>fnlwgt</th>\n",
       "      <th>education-num</th>\n",
       "      <th>marital-status</th>\n",
       "      <th>occupation</th>\n",
       "      <th>relationship</th>\n",
       "      <th>sex</th>\n",
       "      <th>hours-per-week</th>\n",
       "      <th>wage</th>\n",
       "      <th>net-capital</th>\n",
       "      <th>native-us</th>\n",
       "    </tr>\n",
       "  </thead>\n",
       "  <tbody>\n",
       "    <tr>\n",
       "      <th>0</th>\n",
       "      <td>39</td>\n",
       "      <td>State-gov</td>\n",
       "      <td>77516</td>\n",
       "      <td>13</td>\n",
       "      <td>Never-married</td>\n",
       "      <td>Adm-clerical</td>\n",
       "      <td>Not-in-family</td>\n",
       "      <td>Male</td>\n",
       "      <td>40</td>\n",
       "      <td>&lt;=50K</td>\n",
       "      <td>2174</td>\n",
       "      <td>1</td>\n",
       "    </tr>\n",
       "    <tr>\n",
       "      <th>1</th>\n",
       "      <td>50</td>\n",
       "      <td>Self-emp-not-inc</td>\n",
       "      <td>83311</td>\n",
       "      <td>13</td>\n",
       "      <td>Married-civ-spouse</td>\n",
       "      <td>Exec-managerial</td>\n",
       "      <td>Husband</td>\n",
       "      <td>Male</td>\n",
       "      <td>13</td>\n",
       "      <td>&lt;=50K</td>\n",
       "      <td>0</td>\n",
       "      <td>1</td>\n",
       "    </tr>\n",
       "    <tr>\n",
       "      <th>2</th>\n",
       "      <td>38</td>\n",
       "      <td>Private</td>\n",
       "      <td>215646</td>\n",
       "      <td>9</td>\n",
       "      <td>Divorced</td>\n",
       "      <td>Handlers-cleaners</td>\n",
       "      <td>Not-in-family</td>\n",
       "      <td>Male</td>\n",
       "      <td>40</td>\n",
       "      <td>&lt;=50K</td>\n",
       "      <td>0</td>\n",
       "      <td>1</td>\n",
       "    </tr>\n",
       "    <tr>\n",
       "      <th>3</th>\n",
       "      <td>53</td>\n",
       "      <td>Private</td>\n",
       "      <td>234721</td>\n",
       "      <td>7</td>\n",
       "      <td>Married-civ-spouse</td>\n",
       "      <td>Handlers-cleaners</td>\n",
       "      <td>Husband</td>\n",
       "      <td>Male</td>\n",
       "      <td>40</td>\n",
       "      <td>&lt;=50K</td>\n",
       "      <td>0</td>\n",
       "      <td>1</td>\n",
       "    </tr>\n",
       "    <tr>\n",
       "      <th>4</th>\n",
       "      <td>28</td>\n",
       "      <td>Private</td>\n",
       "      <td>338409</td>\n",
       "      <td>13</td>\n",
       "      <td>Married-civ-spouse</td>\n",
       "      <td>Prof-specialty</td>\n",
       "      <td>Wife</td>\n",
       "      <td>Female</td>\n",
       "      <td>40</td>\n",
       "      <td>&lt;=50K</td>\n",
       "      <td>0</td>\n",
       "      <td>0</td>\n",
       "    </tr>\n",
       "  </tbody>\n",
       "</table>\n",
       "</div>"
      ],
      "text/plain": [
       "   age          workclass  fnlwgt  education-num       marital-status  \\\n",
       "0   39          State-gov   77516             13        Never-married   \n",
       "1   50   Self-emp-not-inc   83311             13   Married-civ-spouse   \n",
       "2   38            Private  215646              9             Divorced   \n",
       "3   53            Private  234721              7   Married-civ-spouse   \n",
       "4   28            Private  338409             13   Married-civ-spouse   \n",
       "\n",
       "           occupation    relationship      sex  hours-per-week    wage  \\\n",
       "0        Adm-clerical   Not-in-family     Male              40   <=50K   \n",
       "1     Exec-managerial         Husband     Male              13   <=50K   \n",
       "2   Handlers-cleaners   Not-in-family     Male              40   <=50K   \n",
       "3   Handlers-cleaners         Husband     Male              40   <=50K   \n",
       "4      Prof-specialty            Wife   Female              40   <=50K   \n",
       "\n",
       "   net-capital  native-us  \n",
       "0         2174          1  \n",
       "1            0          1  \n",
       "2            0          1  \n",
       "3            0          1  \n",
       "4            0          0  "
      ]
     },
     "execution_count": 61,
     "metadata": {},
     "output_type": "execute_result"
    }
   ],
   "source": [
    "df.head()"
   ]
  },
  {
   "cell_type": "code",
   "execution_count": 62,
   "id": "75ad2d60",
   "metadata": {
    "scrolled": true
   },
   "outputs": [
    {
     "data": {
      "text/html": [
       "<div>\n",
       "<style scoped>\n",
       "    .dataframe tbody tr th:only-of-type {\n",
       "        vertical-align: middle;\n",
       "    }\n",
       "\n",
       "    .dataframe tbody tr th {\n",
       "        vertical-align: top;\n",
       "    }\n",
       "\n",
       "    .dataframe thead th {\n",
       "        text-align: right;\n",
       "    }\n",
       "</style>\n",
       "<table border=\"1\" class=\"dataframe\">\n",
       "  <thead>\n",
       "    <tr style=\"text-align: right;\">\n",
       "      <th></th>\n",
       "      <th>age</th>\n",
       "      <th>workclass</th>\n",
       "      <th>fnlwgt</th>\n",
       "      <th>education-num</th>\n",
       "      <th>marital-status</th>\n",
       "      <th>occupation</th>\n",
       "      <th>relationship</th>\n",
       "      <th>sex</th>\n",
       "      <th>hours-per-week</th>\n",
       "      <th>wage</th>\n",
       "      <th>net-capital</th>\n",
       "      <th>native-us</th>\n",
       "    </tr>\n",
       "  </thead>\n",
       "  <tbody>\n",
       "    <tr>\n",
       "      <th>0</th>\n",
       "      <td>39</td>\n",
       "      <td>State-gov</td>\n",
       "      <td>77516</td>\n",
       "      <td>13</td>\n",
       "      <td>Never-married</td>\n",
       "      <td>Adm-clerical</td>\n",
       "      <td>Not-in-family</td>\n",
       "      <td>Male</td>\n",
       "      <td>40</td>\n",
       "      <td>&lt;=50K</td>\n",
       "      <td>2174</td>\n",
       "      <td>1</td>\n",
       "    </tr>\n",
       "    <tr>\n",
       "      <th>1</th>\n",
       "      <td>50</td>\n",
       "      <td>Self-emp-not-inc</td>\n",
       "      <td>83311</td>\n",
       "      <td>13</td>\n",
       "      <td>Married-civ-spouse</td>\n",
       "      <td>Exec-managerial</td>\n",
       "      <td>Husband</td>\n",
       "      <td>Male</td>\n",
       "      <td>13</td>\n",
       "      <td>&lt;=50K</td>\n",
       "      <td>0</td>\n",
       "      <td>1</td>\n",
       "    </tr>\n",
       "    <tr>\n",
       "      <th>2</th>\n",
       "      <td>38</td>\n",
       "      <td>Private</td>\n",
       "      <td>215646</td>\n",
       "      <td>9</td>\n",
       "      <td>Divorced</td>\n",
       "      <td>Handlers-cleaners</td>\n",
       "      <td>Not-in-family</td>\n",
       "      <td>Male</td>\n",
       "      <td>40</td>\n",
       "      <td>&lt;=50K</td>\n",
       "      <td>0</td>\n",
       "      <td>1</td>\n",
       "    </tr>\n",
       "    <tr>\n",
       "      <th>3</th>\n",
       "      <td>53</td>\n",
       "      <td>Private</td>\n",
       "      <td>234721</td>\n",
       "      <td>7</td>\n",
       "      <td>Married-civ-spouse</td>\n",
       "      <td>Handlers-cleaners</td>\n",
       "      <td>Husband</td>\n",
       "      <td>Male</td>\n",
       "      <td>40</td>\n",
       "      <td>&lt;=50K</td>\n",
       "      <td>0</td>\n",
       "      <td>1</td>\n",
       "    </tr>\n",
       "    <tr>\n",
       "      <th>4</th>\n",
       "      <td>28</td>\n",
       "      <td>Private</td>\n",
       "      <td>338409</td>\n",
       "      <td>13</td>\n",
       "      <td>Married-civ-spouse</td>\n",
       "      <td>Prof-specialty</td>\n",
       "      <td>Wife</td>\n",
       "      <td>Female</td>\n",
       "      <td>40</td>\n",
       "      <td>&lt;=50K</td>\n",
       "      <td>0</td>\n",
       "      <td>0</td>\n",
       "    </tr>\n",
       "    <tr>\n",
       "      <th>5</th>\n",
       "      <td>37</td>\n",
       "      <td>Private</td>\n",
       "      <td>284582</td>\n",
       "      <td>14</td>\n",
       "      <td>Married-civ-spouse</td>\n",
       "      <td>Exec-managerial</td>\n",
       "      <td>Wife</td>\n",
       "      <td>Female</td>\n",
       "      <td>40</td>\n",
       "      <td>&lt;=50K</td>\n",
       "      <td>0</td>\n",
       "      <td>1</td>\n",
       "    </tr>\n",
       "    <tr>\n",
       "      <th>6</th>\n",
       "      <td>49</td>\n",
       "      <td>Private</td>\n",
       "      <td>160187</td>\n",
       "      <td>5</td>\n",
       "      <td>Married-spouse-absent</td>\n",
       "      <td>Other-service</td>\n",
       "      <td>Not-in-family</td>\n",
       "      <td>Female</td>\n",
       "      <td>16</td>\n",
       "      <td>&lt;=50K</td>\n",
       "      <td>0</td>\n",
       "      <td>0</td>\n",
       "    </tr>\n",
       "    <tr>\n",
       "      <th>7</th>\n",
       "      <td>52</td>\n",
       "      <td>Self-emp-not-inc</td>\n",
       "      <td>209642</td>\n",
       "      <td>9</td>\n",
       "      <td>Married-civ-spouse</td>\n",
       "      <td>Exec-managerial</td>\n",
       "      <td>Husband</td>\n",
       "      <td>Male</td>\n",
       "      <td>45</td>\n",
       "      <td>&gt;50K</td>\n",
       "      <td>0</td>\n",
       "      <td>1</td>\n",
       "    </tr>\n",
       "    <tr>\n",
       "      <th>8</th>\n",
       "      <td>31</td>\n",
       "      <td>Private</td>\n",
       "      <td>45781</td>\n",
       "      <td>14</td>\n",
       "      <td>Never-married</td>\n",
       "      <td>Prof-specialty</td>\n",
       "      <td>Not-in-family</td>\n",
       "      <td>Female</td>\n",
       "      <td>50</td>\n",
       "      <td>&gt;50K</td>\n",
       "      <td>14084</td>\n",
       "      <td>1</td>\n",
       "    </tr>\n",
       "    <tr>\n",
       "      <th>9</th>\n",
       "      <td>42</td>\n",
       "      <td>Private</td>\n",
       "      <td>159449</td>\n",
       "      <td>13</td>\n",
       "      <td>Married-civ-spouse</td>\n",
       "      <td>Exec-managerial</td>\n",
       "      <td>Husband</td>\n",
       "      <td>Male</td>\n",
       "      <td>40</td>\n",
       "      <td>&gt;50K</td>\n",
       "      <td>5178</td>\n",
       "      <td>1</td>\n",
       "    </tr>\n",
       "    <tr>\n",
       "      <th>10</th>\n",
       "      <td>37</td>\n",
       "      <td>Private</td>\n",
       "      <td>280464</td>\n",
       "      <td>10</td>\n",
       "      <td>Married-civ-spouse</td>\n",
       "      <td>Exec-managerial</td>\n",
       "      <td>Husband</td>\n",
       "      <td>Male</td>\n",
       "      <td>80</td>\n",
       "      <td>&gt;50K</td>\n",
       "      <td>0</td>\n",
       "      <td>1</td>\n",
       "    </tr>\n",
       "    <tr>\n",
       "      <th>11</th>\n",
       "      <td>30</td>\n",
       "      <td>State-gov</td>\n",
       "      <td>141297</td>\n",
       "      <td>13</td>\n",
       "      <td>Married-civ-spouse</td>\n",
       "      <td>Prof-specialty</td>\n",
       "      <td>Husband</td>\n",
       "      <td>Male</td>\n",
       "      <td>40</td>\n",
       "      <td>&gt;50K</td>\n",
       "      <td>0</td>\n",
       "      <td>0</td>\n",
       "    </tr>\n",
       "    <tr>\n",
       "      <th>12</th>\n",
       "      <td>23</td>\n",
       "      <td>Private</td>\n",
       "      <td>122272</td>\n",
       "      <td>13</td>\n",
       "      <td>Never-married</td>\n",
       "      <td>Adm-clerical</td>\n",
       "      <td>Own-child</td>\n",
       "      <td>Female</td>\n",
       "      <td>30</td>\n",
       "      <td>&lt;=50K</td>\n",
       "      <td>0</td>\n",
       "      <td>1</td>\n",
       "    </tr>\n",
       "    <tr>\n",
       "      <th>13</th>\n",
       "      <td>32</td>\n",
       "      <td>Private</td>\n",
       "      <td>205019</td>\n",
       "      <td>12</td>\n",
       "      <td>Never-married</td>\n",
       "      <td>Sales</td>\n",
       "      <td>Not-in-family</td>\n",
       "      <td>Male</td>\n",
       "      <td>50</td>\n",
       "      <td>&lt;=50K</td>\n",
       "      <td>0</td>\n",
       "      <td>1</td>\n",
       "    </tr>\n",
       "    <tr>\n",
       "      <th>14</th>\n",
       "      <td>40</td>\n",
       "      <td>Private</td>\n",
       "      <td>121772</td>\n",
       "      <td>11</td>\n",
       "      <td>Married-civ-spouse</td>\n",
       "      <td>Craft-repair</td>\n",
       "      <td>Husband</td>\n",
       "      <td>Male</td>\n",
       "      <td>40</td>\n",
       "      <td>&gt;50K</td>\n",
       "      <td>0</td>\n",
       "      <td>0</td>\n",
       "    </tr>\n",
       "    <tr>\n",
       "      <th>15</th>\n",
       "      <td>34</td>\n",
       "      <td>Private</td>\n",
       "      <td>245487</td>\n",
       "      <td>4</td>\n",
       "      <td>Married-civ-spouse</td>\n",
       "      <td>Transport-moving</td>\n",
       "      <td>Husband</td>\n",
       "      <td>Male</td>\n",
       "      <td>45</td>\n",
       "      <td>&lt;=50K</td>\n",
       "      <td>0</td>\n",
       "      <td>0</td>\n",
       "    </tr>\n",
       "    <tr>\n",
       "      <th>16</th>\n",
       "      <td>25</td>\n",
       "      <td>Self-emp-not-inc</td>\n",
       "      <td>176756</td>\n",
       "      <td>9</td>\n",
       "      <td>Never-married</td>\n",
       "      <td>Farming-fishing</td>\n",
       "      <td>Own-child</td>\n",
       "      <td>Male</td>\n",
       "      <td>35</td>\n",
       "      <td>&lt;=50K</td>\n",
       "      <td>0</td>\n",
       "      <td>1</td>\n",
       "    </tr>\n",
       "    <tr>\n",
       "      <th>17</th>\n",
       "      <td>32</td>\n",
       "      <td>Private</td>\n",
       "      <td>186824</td>\n",
       "      <td>9</td>\n",
       "      <td>Never-married</td>\n",
       "      <td>Machine-op-inspct</td>\n",
       "      <td>Unmarried</td>\n",
       "      <td>Male</td>\n",
       "      <td>40</td>\n",
       "      <td>&lt;=50K</td>\n",
       "      <td>0</td>\n",
       "      <td>1</td>\n",
       "    </tr>\n",
       "    <tr>\n",
       "      <th>18</th>\n",
       "      <td>38</td>\n",
       "      <td>Private</td>\n",
       "      <td>28887</td>\n",
       "      <td>7</td>\n",
       "      <td>Married-civ-spouse</td>\n",
       "      <td>Sales</td>\n",
       "      <td>Husband</td>\n",
       "      <td>Male</td>\n",
       "      <td>50</td>\n",
       "      <td>&lt;=50K</td>\n",
       "      <td>0</td>\n",
       "      <td>1</td>\n",
       "    </tr>\n",
       "    <tr>\n",
       "      <th>19</th>\n",
       "      <td>43</td>\n",
       "      <td>Self-emp-not-inc</td>\n",
       "      <td>292175</td>\n",
       "      <td>14</td>\n",
       "      <td>Divorced</td>\n",
       "      <td>Exec-managerial</td>\n",
       "      <td>Unmarried</td>\n",
       "      <td>Female</td>\n",
       "      <td>45</td>\n",
       "      <td>&gt;50K</td>\n",
       "      <td>0</td>\n",
       "      <td>1</td>\n",
       "    </tr>\n",
       "    <tr>\n",
       "      <th>20</th>\n",
       "      <td>40</td>\n",
       "      <td>Private</td>\n",
       "      <td>193524</td>\n",
       "      <td>16</td>\n",
       "      <td>Married-civ-spouse</td>\n",
       "      <td>Prof-specialty</td>\n",
       "      <td>Husband</td>\n",
       "      <td>Male</td>\n",
       "      <td>60</td>\n",
       "      <td>&gt;50K</td>\n",
       "      <td>0</td>\n",
       "      <td>1</td>\n",
       "    </tr>\n",
       "    <tr>\n",
       "      <th>21</th>\n",
       "      <td>54</td>\n",
       "      <td>Private</td>\n",
       "      <td>302146</td>\n",
       "      <td>9</td>\n",
       "      <td>Separated</td>\n",
       "      <td>Other-service</td>\n",
       "      <td>Unmarried</td>\n",
       "      <td>Female</td>\n",
       "      <td>20</td>\n",
       "      <td>&lt;=50K</td>\n",
       "      <td>0</td>\n",
       "      <td>1</td>\n",
       "    </tr>\n",
       "    <tr>\n",
       "      <th>22</th>\n",
       "      <td>35</td>\n",
       "      <td>Federal-gov</td>\n",
       "      <td>76845</td>\n",
       "      <td>5</td>\n",
       "      <td>Married-civ-spouse</td>\n",
       "      <td>Farming-fishing</td>\n",
       "      <td>Husband</td>\n",
       "      <td>Male</td>\n",
       "      <td>40</td>\n",
       "      <td>&lt;=50K</td>\n",
       "      <td>0</td>\n",
       "      <td>1</td>\n",
       "    </tr>\n",
       "    <tr>\n",
       "      <th>23</th>\n",
       "      <td>43</td>\n",
       "      <td>Private</td>\n",
       "      <td>117037</td>\n",
       "      <td>7</td>\n",
       "      <td>Married-civ-spouse</td>\n",
       "      <td>Transport-moving</td>\n",
       "      <td>Husband</td>\n",
       "      <td>Male</td>\n",
       "      <td>40</td>\n",
       "      <td>&lt;=50K</td>\n",
       "      <td>-2042</td>\n",
       "      <td>1</td>\n",
       "    </tr>\n",
       "    <tr>\n",
       "      <th>24</th>\n",
       "      <td>59</td>\n",
       "      <td>Private</td>\n",
       "      <td>109015</td>\n",
       "      <td>9</td>\n",
       "      <td>Divorced</td>\n",
       "      <td>Tech-support</td>\n",
       "      <td>Unmarried</td>\n",
       "      <td>Female</td>\n",
       "      <td>40</td>\n",
       "      <td>&lt;=50K</td>\n",
       "      <td>0</td>\n",
       "      <td>1</td>\n",
       "    </tr>\n",
       "  </tbody>\n",
       "</table>\n",
       "</div>"
      ],
      "text/plain": [
       "    age          workclass  fnlwgt  education-num          marital-status  \\\n",
       "0    39          State-gov   77516             13           Never-married   \n",
       "1    50   Self-emp-not-inc   83311             13      Married-civ-spouse   \n",
       "2    38            Private  215646              9                Divorced   \n",
       "3    53            Private  234721              7      Married-civ-spouse   \n",
       "4    28            Private  338409             13      Married-civ-spouse   \n",
       "5    37            Private  284582             14      Married-civ-spouse   \n",
       "6    49            Private  160187              5   Married-spouse-absent   \n",
       "7    52   Self-emp-not-inc  209642              9      Married-civ-spouse   \n",
       "8    31            Private   45781             14           Never-married   \n",
       "9    42            Private  159449             13      Married-civ-spouse   \n",
       "10   37            Private  280464             10      Married-civ-spouse   \n",
       "11   30          State-gov  141297             13      Married-civ-spouse   \n",
       "12   23            Private  122272             13           Never-married   \n",
       "13   32            Private  205019             12           Never-married   \n",
       "14   40            Private  121772             11      Married-civ-spouse   \n",
       "15   34            Private  245487              4      Married-civ-spouse   \n",
       "16   25   Self-emp-not-inc  176756              9           Never-married   \n",
       "17   32            Private  186824              9           Never-married   \n",
       "18   38            Private   28887              7      Married-civ-spouse   \n",
       "19   43   Self-emp-not-inc  292175             14                Divorced   \n",
       "20   40            Private  193524             16      Married-civ-spouse   \n",
       "21   54            Private  302146              9               Separated   \n",
       "22   35        Federal-gov   76845              5      Married-civ-spouse   \n",
       "23   43            Private  117037              7      Married-civ-spouse   \n",
       "24   59            Private  109015              9                Divorced   \n",
       "\n",
       "            occupation    relationship      sex  hours-per-week    wage  \\\n",
       "0         Adm-clerical   Not-in-family     Male              40   <=50K   \n",
       "1      Exec-managerial         Husband     Male              13   <=50K   \n",
       "2    Handlers-cleaners   Not-in-family     Male              40   <=50K   \n",
       "3    Handlers-cleaners         Husband     Male              40   <=50K   \n",
       "4       Prof-specialty            Wife   Female              40   <=50K   \n",
       "5      Exec-managerial            Wife   Female              40   <=50K   \n",
       "6        Other-service   Not-in-family   Female              16   <=50K   \n",
       "7      Exec-managerial         Husband     Male              45    >50K   \n",
       "8       Prof-specialty   Not-in-family   Female              50    >50K   \n",
       "9      Exec-managerial         Husband     Male              40    >50K   \n",
       "10     Exec-managerial         Husband     Male              80    >50K   \n",
       "11      Prof-specialty         Husband     Male              40    >50K   \n",
       "12        Adm-clerical       Own-child   Female              30   <=50K   \n",
       "13               Sales   Not-in-family     Male              50   <=50K   \n",
       "14        Craft-repair         Husband     Male              40    >50K   \n",
       "15    Transport-moving         Husband     Male              45   <=50K   \n",
       "16     Farming-fishing       Own-child     Male              35   <=50K   \n",
       "17   Machine-op-inspct       Unmarried     Male              40   <=50K   \n",
       "18               Sales         Husband     Male              50   <=50K   \n",
       "19     Exec-managerial       Unmarried   Female              45    >50K   \n",
       "20      Prof-specialty         Husband     Male              60    >50K   \n",
       "21       Other-service       Unmarried   Female              20   <=50K   \n",
       "22     Farming-fishing         Husband     Male              40   <=50K   \n",
       "23    Transport-moving         Husband     Male              40   <=50K   \n",
       "24        Tech-support       Unmarried   Female              40   <=50K   \n",
       "\n",
       "    net-capital  native-us  \n",
       "0          2174          1  \n",
       "1             0          1  \n",
       "2             0          1  \n",
       "3             0          1  \n",
       "4             0          0  \n",
       "5             0          1  \n",
       "6             0          0  \n",
       "7             0          1  \n",
       "8         14084          1  \n",
       "9          5178          1  \n",
       "10            0          1  \n",
       "11            0          0  \n",
       "12            0          1  \n",
       "13            0          1  \n",
       "14            0          0  \n",
       "15            0          0  \n",
       "16            0          1  \n",
       "17            0          1  \n",
       "18            0          1  \n",
       "19            0          1  \n",
       "20            0          1  \n",
       "21            0          1  \n",
       "22            0          1  \n",
       "23        -2042          1  \n",
       "24            0          1  "
      ]
     },
     "execution_count": 62,
     "metadata": {},
     "output_type": "execute_result"
    }
   ],
   "source": [
    "df.head(25)"
   ]
  },
  {
   "cell_type": "code",
   "execution_count": null,
   "id": "19c900f8",
   "metadata": {},
   "outputs": [],
   "source": []
  },
  {
   "cell_type": "code",
   "execution_count": 63,
   "id": "508c5fa3",
   "metadata": {
    "scrolled": true
   },
   "outputs": [
    {
     "data": {
      "text/plain": [
       " Private             22696\n",
       " Self-emp-not-inc     2541\n",
       " Local-gov            2093\n",
       " ?                    1836\n",
       " State-gov            1298\n",
       " Self-emp-inc         1116\n",
       " Federal-gov           960\n",
       " Without-pay            14\n",
       " Never-worked            7\n",
       "Name: workclass, dtype: int64"
      ]
     },
     "execution_count": 63,
     "metadata": {},
     "output_type": "execute_result"
    }
   ],
   "source": [
    "df['workclass'].value_counts()"
   ]
  },
  {
   "cell_type": "code",
   "execution_count": 64,
   "id": "13740646",
   "metadata": {},
   "outputs": [],
   "source": [
    "df['workclass'].replace(' ?', df['workclass'].mode()[0], inplace = True)"
   ]
  },
  {
   "cell_type": "code",
   "execution_count": 65,
   "id": "fc418602",
   "metadata": {},
   "outputs": [
    {
     "data": {
      "text/plain": [
       " Private             24532\n",
       " Self-emp-not-inc     2541\n",
       " Local-gov            2093\n",
       " State-gov            1298\n",
       " Self-emp-inc         1116\n",
       " Federal-gov           960\n",
       " Without-pay            14\n",
       " Never-worked            7\n",
       "Name: workclass, dtype: int64"
      ]
     },
     "execution_count": 65,
     "metadata": {},
     "output_type": "execute_result"
    }
   ],
   "source": [
    "df['workclass'].value_counts()"
   ]
  },
  {
   "cell_type": "code",
   "execution_count": 66,
   "id": "81554db2",
   "metadata": {},
   "outputs": [
    {
     "data": {
      "text/plain": [
       "36    898\n",
       "31    888\n",
       "34    886\n",
       "23    877\n",
       "35    876\n",
       "     ... \n",
       "83      6\n",
       "88      3\n",
       "85      3\n",
       "86      1\n",
       "87      1\n",
       "Name: age, Length: 73, dtype: int64"
      ]
     },
     "execution_count": 66,
     "metadata": {},
     "output_type": "execute_result"
    }
   ],
   "source": [
    "df['age'].value_counts()"
   ]
  },
  {
   "cell_type": "code",
   "execution_count": 67,
   "id": "cfef5d8c",
   "metadata": {},
   "outputs": [
    {
     "data": {
      "text/plain": [
       "0         77516\n",
       "1         83311\n",
       "2        215646\n",
       "3        234721\n",
       "4        338409\n",
       "          ...  \n",
       "32556    257302\n",
       "32557    154374\n",
       "32558    151910\n",
       "32559    201490\n",
       "32560    287927\n",
       "Name: fnlwgt, Length: 32561, dtype: int64"
      ]
     },
     "execution_count": 67,
     "metadata": {},
     "output_type": "execute_result"
    }
   ],
   "source": [
    "df['fnlwgt']"
   ]
  },
  {
   "cell_type": "code",
   "execution_count": 68,
   "id": "5e7642f8",
   "metadata": {},
   "outputs": [],
   "source": [
    "df['wage']=df['wage'].map({' <=50K':1,' >50K':0})"
   ]
  },
  {
   "cell_type": "code",
   "execution_count": null,
   "id": "727769d0",
   "metadata": {},
   "outputs": [],
   "source": []
  },
  {
   "cell_type": "code",
   "execution_count": 69,
   "id": "d7e8c5f6",
   "metadata": {
    "scrolled": true
   },
   "outputs": [
    {
     "data": {
      "text/html": [
       "<div>\n",
       "<style scoped>\n",
       "    .dataframe tbody tr th:only-of-type {\n",
       "        vertical-align: middle;\n",
       "    }\n",
       "\n",
       "    .dataframe tbody tr th {\n",
       "        vertical-align: top;\n",
       "    }\n",
       "\n",
       "    .dataframe thead th {\n",
       "        text-align: right;\n",
       "    }\n",
       "</style>\n",
       "<table border=\"1\" class=\"dataframe\">\n",
       "  <thead>\n",
       "    <tr style=\"text-align: right;\">\n",
       "      <th></th>\n",
       "      <th>age</th>\n",
       "      <th>workclass</th>\n",
       "      <th>fnlwgt</th>\n",
       "      <th>education-num</th>\n",
       "      <th>marital-status</th>\n",
       "      <th>occupation</th>\n",
       "      <th>relationship</th>\n",
       "      <th>sex</th>\n",
       "      <th>hours-per-week</th>\n",
       "      <th>wage</th>\n",
       "      <th>net-capital</th>\n",
       "      <th>native-us</th>\n",
       "    </tr>\n",
       "  </thead>\n",
       "  <tbody>\n",
       "    <tr>\n",
       "      <th>0</th>\n",
       "      <td>39</td>\n",
       "      <td>State-gov</td>\n",
       "      <td>77516</td>\n",
       "      <td>13</td>\n",
       "      <td>Never-married</td>\n",
       "      <td>Adm-clerical</td>\n",
       "      <td>Not-in-family</td>\n",
       "      <td>Male</td>\n",
       "      <td>40</td>\n",
       "      <td>1</td>\n",
       "      <td>2174</td>\n",
       "      <td>1</td>\n",
       "    </tr>\n",
       "    <tr>\n",
       "      <th>1</th>\n",
       "      <td>50</td>\n",
       "      <td>Self-emp-not-inc</td>\n",
       "      <td>83311</td>\n",
       "      <td>13</td>\n",
       "      <td>Married-civ-spouse</td>\n",
       "      <td>Exec-managerial</td>\n",
       "      <td>Husband</td>\n",
       "      <td>Male</td>\n",
       "      <td>13</td>\n",
       "      <td>1</td>\n",
       "      <td>0</td>\n",
       "      <td>1</td>\n",
       "    </tr>\n",
       "    <tr>\n",
       "      <th>2</th>\n",
       "      <td>38</td>\n",
       "      <td>Private</td>\n",
       "      <td>215646</td>\n",
       "      <td>9</td>\n",
       "      <td>Divorced</td>\n",
       "      <td>Handlers-cleaners</td>\n",
       "      <td>Not-in-family</td>\n",
       "      <td>Male</td>\n",
       "      <td>40</td>\n",
       "      <td>1</td>\n",
       "      <td>0</td>\n",
       "      <td>1</td>\n",
       "    </tr>\n",
       "  </tbody>\n",
       "</table>\n",
       "</div>"
      ],
      "text/plain": [
       "   age          workclass  fnlwgt  education-num       marital-status  \\\n",
       "0   39          State-gov   77516             13        Never-married   \n",
       "1   50   Self-emp-not-inc   83311             13   Married-civ-spouse   \n",
       "2   38            Private  215646              9             Divorced   \n",
       "\n",
       "           occupation    relationship    sex  hours-per-week  wage  \\\n",
       "0        Adm-clerical   Not-in-family   Male              40     1   \n",
       "1     Exec-managerial         Husband   Male              13     1   \n",
       "2   Handlers-cleaners   Not-in-family   Male              40     1   \n",
       "\n",
       "   net-capital  native-us  \n",
       "0         2174          1  \n",
       "1            0          1  \n",
       "2            0          1  "
      ]
     },
     "execution_count": 69,
     "metadata": {},
     "output_type": "execute_result"
    }
   ],
   "source": [
    "df.head(3)"
   ]
  },
  {
   "cell_type": "code",
   "execution_count": 70,
   "id": "18f63bd1",
   "metadata": {},
   "outputs": [],
   "source": [
    "df['occupation'].replace(' ?', df['occupation'].mode()[0], inplace = True)"
   ]
  },
  {
   "cell_type": "code",
   "execution_count": 71,
   "id": "418af285",
   "metadata": {},
   "outputs": [
    {
     "data": {
      "text/html": [
       "<div>\n",
       "<style scoped>\n",
       "    .dataframe tbody tr th:only-of-type {\n",
       "        vertical-align: middle;\n",
       "    }\n",
       "\n",
       "    .dataframe tbody tr th {\n",
       "        vertical-align: top;\n",
       "    }\n",
       "\n",
       "    .dataframe thead th {\n",
       "        text-align: right;\n",
       "    }\n",
       "</style>\n",
       "<table border=\"1\" class=\"dataframe\">\n",
       "  <thead>\n",
       "    <tr style=\"text-align: right;\">\n",
       "      <th></th>\n",
       "      <th>wage</th>\n",
       "    </tr>\n",
       "  </thead>\n",
       "  <tbody>\n",
       "    <tr>\n",
       "      <th>wage</th>\n",
       "      <td>1.000000</td>\n",
       "    </tr>\n",
       "    <tr>\n",
       "      <th>fnlwgt</th>\n",
       "      <td>0.009463</td>\n",
       "    </tr>\n",
       "    <tr>\n",
       "      <th>native-us</th>\n",
       "      <td>-0.034470</td>\n",
       "    </tr>\n",
       "    <tr>\n",
       "      <th>net-capital</th>\n",
       "      <td>-0.214428</td>\n",
       "    </tr>\n",
       "    <tr>\n",
       "      <th>hours-per-week</th>\n",
       "      <td>-0.229689</td>\n",
       "    </tr>\n",
       "    <tr>\n",
       "      <th>age</th>\n",
       "      <td>-0.234037</td>\n",
       "    </tr>\n",
       "    <tr>\n",
       "      <th>education-num</th>\n",
       "      <td>-0.335154</td>\n",
       "    </tr>\n",
       "  </tbody>\n",
       "</table>\n",
       "</div>"
      ],
      "text/plain": [
       "                    wage\n",
       "wage            1.000000\n",
       "fnlwgt          0.009463\n",
       "native-us      -0.034470\n",
       "net-capital    -0.214428\n",
       "hours-per-week -0.229689\n",
       "age            -0.234037\n",
       "education-num  -0.335154"
      ]
     },
     "execution_count": 71,
     "metadata": {},
     "output_type": "execute_result"
    }
   ],
   "source": [
    "df.corr()[['wage']].sort_values(by='wage', ascending=False).head(10)"
   ]
  },
  {
   "cell_type": "code",
   "execution_count": 72,
   "id": "25ae82fc",
   "metadata": {},
   "outputs": [],
   "source": [
    "df=pd.get_dummies(df,columns=['workclass','marital-status', 'occupation', 'relationship', 'sex'],drop_first=True)"
   ]
  },
  {
   "cell_type": "code",
   "execution_count": 73,
   "id": "7616221f",
   "metadata": {},
   "outputs": [
    {
     "data": {
      "image/png": "[encoded data removed]",
      "text/plain": [
       "<Figure size 216x1080 with 2 Axes>"
      ]
     },
     "metadata": {
      "needs_background": "light"
     },
     "output_type": "display_data"
    }
   ],
   "source": [
    "plt.figure(figsize = (3, 15))\n",
    "sns.heatmap(pd.DataFrame(abs(df.corr()[\"wage\"]).sort_values(ascending = False)), annot = True);\n"
   ]
  },
  {
   "cell_type": "code",
   "execution_count": 17,
   "id": "4ce2fb18",
   "metadata": {},
   "outputs": [],
   "source": [
    "# Hold my abalone.\n",
    "\n",
    "X = df[pd.DataFrame(abs(df.corr()[\"wage\"]).sort_values(ascending = False)).iloc[1:,:].reset_index().rename(columns = {\"index\" : \"feature\", \"wage\" : \"corr\"})[\"feature\"][:20]]\n",
    "y = df['wage']"
   ]
  },
  {
   "cell_type": "code",
   "execution_count": 18,
   "id": "9598203b",
   "metadata": {
    "scrolled": true
   },
   "outputs": [],
   "source": [
    "X_train, X_test, y_train, y_test = train_test_split(X,\n",
    "                                                    y,\n",
    "                                                    stratify=y,\n",
    "                                                    random_state=42)"
   ]
  },
  {
   "cell_type": "code",
   "execution_count": 19,
   "id": "bef64027",
   "metadata": {},
   "outputs": [],
   "source": [
    "rf = RandomForestClassifier(n_estimators=100)"
   ]
  },
  {
   "cell_type": "code",
   "execution_count": 20,
   "id": "00644a1d",
   "metadata": {},
   "outputs": [],
   "source": [
    "et = ExtraTreesClassifier(n_estimators=100)"
   ]
  },
  {
   "cell_type": "code",
   "execution_count": 21,
   "id": "b8c9efb0",
   "metadata": {},
   "outputs": [
    {
     "data": {
      "text/plain": [
       "1    0.75919\n",
       "0    0.24081\n",
       "Name: wage, dtype: float64"
      ]
     },
     "execution_count": 21,
     "metadata": {},
     "output_type": "execute_result"
    }
   ],
   "source": [
    "y.value_counts(normalize=True)"
   ]
  },
  {
   "cell_type": "code",
   "execution_count": 22,
   "id": "270a0df6",
   "metadata": {},
   "outputs": [
    {
     "data": {
      "text/plain": [
       "0.8445945945945945"
      ]
     },
     "execution_count": 22,
     "metadata": {},
     "output_type": "execute_result"
    }
   ],
   "source": [
    "cross_val_score(rf, X_train, y_train, cv=5).mean()"
   ]
  },
  {
   "cell_type": "code",
   "execution_count": 23,
   "id": "648bc69c",
   "metadata": {},
   "outputs": [
    {
     "data": {
      "text/plain": [
       "0.8307944307944309"
      ]
     },
     "execution_count": 23,
     "metadata": {},
     "output_type": "execute_result"
    }
   ],
   "source": [
    "cross_val_score(et, X_train, y_train, cv=5).mean()"
   ]
  },
  {
   "cell_type": "code",
   "execution_count": 24,
   "id": "70c0f358",
   "metadata": {},
   "outputs": [
    {
     "name": "stdout",
     "output_type": "stream",
     "text": [
      "0.8488943488943489\n"
     ]
    },
    {
     "data": {
      "text/plain": [
       "{'max_depth': 5, 'n_estimators': 200}"
      ]
     },
     "execution_count": 24,
     "metadata": {},
     "output_type": "execute_result"
    }
   ],
   "source": [
    "rf_params = {\n",
    "    'n_estimators': [100, 150, 200],\n",
    "    'max_depth': [None, 1, 2, 3, 4, 5],\n",
    "}\n",
    "gs = GridSearchCV(rf, param_grid=rf_params, cv=5)\n",
    "gs.fit(X_train, y_train)\n",
    "print(gs.best_score_)\n",
    "gs.best_params_"
   ]
  },
  {
   "cell_type": "code",
   "execution_count": 25,
   "id": "929ff5ac",
   "metadata": {},
   "outputs": [
    {
     "data": {
      "text/plain": [
       "0.8495085995085995"
      ]
     },
     "execution_count": 25,
     "metadata": {},
     "output_type": "execute_result"
    }
   ],
   "source": [
    "gs.score(X_train, y_train)"
   ]
  },
  {
   "cell_type": "code",
   "execution_count": 26,
   "id": "f7a192e7",
   "metadata": {},
   "outputs": [
    {
     "data": {
      "text/plain": [
       "0.8467018793759981"
      ]
     },
     "execution_count": 26,
     "metadata": {},
     "output_type": "execute_result"
    }
   ],
   "source": [
    "gs.score(X_test, y_test)"
   ]
  },
  {
   "cell_type": "code",
   "execution_count": 27,
   "id": "a8951d62",
   "metadata": {},
   "outputs": [],
   "source": [
    "preds = gs.predict(X_train)"
   ]
  },
  {
   "cell_type": "code",
   "execution_count": 28,
   "id": "85036bb8",
   "metadata": {},
   "outputs": [],
   "source": [
    "preds2 = gs.predict(X_test)"
   ]
  },
  {
   "cell_type": "code",
   "execution_count": 29,
   "id": "6243db01",
   "metadata": {},
   "outputs": [
    {
     "data": {
      "text/plain": [
       "0.9063622697276225"
      ]
     },
     "execution_count": 29,
     "metadata": {},
     "output_type": "execute_result"
    }
   ],
   "source": [
    "f1_score(y_train, preds)"
   ]
  },
  {
   "cell_type": "code",
   "execution_count": 30,
   "id": "c132b58e",
   "metadata": {},
   "outputs": [
    {
     "data": {
      "text/plain": [
       "0.9048635462722976"
      ]
     },
     "execution_count": 30,
     "metadata": {},
     "output_type": "execute_result"
    }
   ],
   "source": [
    "f1_score(y_test, preds2)"
   ]
  },
  {
   "cell_type": "code",
   "execution_count": 31,
   "id": "431b5fa3",
   "metadata": {},
   "outputs": [
    {
     "data": {
      "text/plain": [
       "AdaBoostClassifier()"
      ]
     },
     "execution_count": 31,
     "metadata": {},
     "output_type": "execute_result"
    }
   ],
   "source": [
    "AdaBoostClassifier()"
   ]
  },
  {
   "cell_type": "code",
   "execution_count": 32,
   "id": "31acd415",
   "metadata": {},
   "outputs": [],
   "source": [
    "tree = DecisionTreeClassifier(max_depth=1, random_state=111)\n",
    "ada = AdaBoostClassifier(tree, n_estimators=100, learning_rate=1, algorithm='SAMME.R')"
   ]
  },
  {
   "cell_type": "code",
   "execution_count": 33,
   "id": "d862fe04",
   "metadata": {},
   "outputs": [
    {
     "data": {
      "text/plain": [
       "AdaBoostClassifier(base_estimator=DecisionTreeClassifier(max_depth=1,\n",
       "                                                         random_state=111),\n",
       "                   learning_rate=1, n_estimators=100)"
      ]
     },
     "execution_count": 33,
     "metadata": {},
     "output_type": "execute_result"
    }
   ],
   "source": [
    "ada.fit(X_train, y_train)"
   ]
  },
  {
   "cell_type": "code",
   "execution_count": 34,
   "id": "382f9694",
   "metadata": {
    "scrolled": true
   },
   "outputs": [
    {
     "name": "stdout",
     "output_type": "stream",
     "text": [
      "0.8640868140868141\n",
      "0.8580027023707161\n"
     ]
    }
   ],
   "source": [
    "print(ada.score(X_train, y_train))\n",
    "print(ada.score(X_test, y_test))"
   ]
  },
  {
   "cell_type": "code",
   "execution_count": 201,
   "id": "538a47c2",
   "metadata": {},
   "outputs": [],
   "source": [
    "#ada_params = {\n",
    " #   'n_estimators': [100, 150, 200],\n",
    "  #  'max_depth': [None, 1, 2, 3, 4, 5],\n",
    "#}"
   ]
  },
  {
   "cell_type": "code",
   "execution_count": null,
   "id": "61522648",
   "metadata": {},
   "outputs": [],
   "source": [
    "#gsada = GridSearchCV(ada, param_grid=ada_params, cv=5)\n",
    "#gs.fit(X_train, y_train)\n",
    "#print(gs.best_score_)\n",
    "#gs.best_params_"
   ]
  },
  {
   "cell_type": "code",
   "execution_count": null,
   "id": "b5dbf203",
   "metadata": {},
   "outputs": [],
   "source": [
    "#gsada.fit(X_train, y_train)"
   ]
  },
  {
   "cell_type": "code",
   "execution_count": 35,
   "id": "15545249",
   "metadata": {},
   "outputs": [],
   "source": [
    "preds3 = ada.predict(X_train)"
   ]
  },
  {
   "cell_type": "code",
   "execution_count": 36,
   "id": "d712f1d7",
   "metadata": {},
   "outputs": [],
   "source": [
    "preds4 = ada.predict(X_test)"
   ]
  },
  {
   "cell_type": "code",
   "execution_count": 37,
   "id": "8caf572f",
   "metadata": {},
   "outputs": [
    {
     "data": {
      "text/plain": [
       "0.9130628388820494"
      ]
     },
     "execution_count": 37,
     "metadata": {},
     "output_type": "execute_result"
    }
   ],
   "source": [
    "f1_score(y_train, preds3)"
   ]
  },
  {
   "cell_type": "code",
   "execution_count": 38,
   "id": "d53fa581",
   "metadata": {},
   "outputs": [
    {
     "data": {
      "text/plain": [
       "0.9095036793486769"
      ]
     },
     "execution_count": 38,
     "metadata": {},
     "output_type": "execute_result"
    }
   ],
   "source": [
    "f1_score(y_test, preds4)"
   ]
  },
  {
   "cell_type": "code",
   "execution_count": 39,
   "id": "3d8aee2e",
   "metadata": {},
   "outputs": [],
   "source": [
    "# Gradient Boost"
   ]
  },
  {
   "cell_type": "code",
   "execution_count": 40,
   "id": "aef0b7be",
   "metadata": {},
   "outputs": [
    {
     "data": {
      "text/plain": [
       "GradientBoostingClassifier()"
      ]
     },
     "execution_count": 40,
     "metadata": {},
     "output_type": "execute_result"
    }
   ],
   "source": [
    "gb = GradientBoostingClassifier()\n",
    "gb.fit(X_train, y_train)"
   ]
  },
  {
   "cell_type": "code",
   "execution_count": 41,
   "id": "ab417d5d",
   "metadata": {},
   "outputs": [
    {
     "name": "stdout",
     "output_type": "stream",
     "text": [
      "0.8676085176085176\n",
      "0.8605822380542931\n"
     ]
    }
   ],
   "source": [
    "print(gb.score(X_train, y_train))\n",
    "print(gb.score(X_test, y_test))"
   ]
  },
  {
   "cell_type": "code",
   "execution_count": 42,
   "id": "c9b92d5c",
   "metadata": {},
   "outputs": [],
   "source": [
    "pgrid = {\n",
    "    'learning_rate': [0.1, 1, 10],\n",
    "    'n_estimators': [10, 100],\n",
    "    'max_depth': [None, 1, 2, 3]\n",
    "}\n",
    "\n",
    "gb = GradientBoostingClassifier(random_state=222)\n",
    "gs2 = GridSearchCV(gb, pgrid, cv=5, n_jobs=6)"
   ]
  },
  {
   "cell_type": "code",
   "execution_count": 43,
   "id": "591e3eb3",
   "metadata": {},
   "outputs": [
    {
     "data": {
      "text/plain": [
       "GridSearchCV(cv=5, estimator=GradientBoostingClassifier(random_state=222),\n",
       "             n_jobs=6,\n",
       "             param_grid={'learning_rate': [0.1, 1, 10],\n",
       "                         'max_depth': [None, 1, 2, 3],\n",
       "                         'n_estimators': [10, 100]})"
      ]
     },
     "execution_count": 43,
     "metadata": {},
     "output_type": "execute_result"
    }
   ],
   "source": [
    "gs2.fit(X_train, y_train)"
   ]
  },
  {
   "cell_type": "code",
   "execution_count": 44,
   "id": "0add8e79",
   "metadata": {},
   "outputs": [
    {
     "name": "stdout",
     "output_type": "stream",
     "text": [
      "0.8734234234234234\n",
      "0.8637759489006265\n"
     ]
    }
   ],
   "source": [
    "print(gs2.score(X_train, y_train))\n",
    "print(gs2.score(X_test, y_test))"
   ]
  },
  {
   "cell_type": "code",
   "execution_count": 45,
   "id": "de1422a4",
   "metadata": {},
   "outputs": [
    {
     "data": {
      "text/plain": [
       "{'learning_rate': 1, 'max_depth': 2, 'n_estimators': 100}"
      ]
     },
     "execution_count": 45,
     "metadata": {},
     "output_type": "execute_result"
    }
   ],
   "source": [
    "gs2.best_params_"
   ]
  },
  {
   "cell_type": "code",
   "execution_count": 46,
   "id": "9a6c80bd",
   "metadata": {},
   "outputs": [],
   "source": [
    "preds5 = gs2.predict(X_train)"
   ]
  },
  {
   "cell_type": "code",
   "execution_count": 47,
   "id": "2d319b70",
   "metadata": {},
   "outputs": [],
   "source": [
    "preds6 = gs2.predict(X_test)"
   ]
  },
  {
   "cell_type": "code",
   "execution_count": 48,
   "id": "4dd3a295",
   "metadata": {},
   "outputs": [
    {
     "data": {
      "text/plain": [
       "0.919419171511249"
      ]
     },
     "execution_count": 48,
     "metadata": {},
     "output_type": "execute_result"
    }
   ],
   "source": [
    "f1_score(y_train, preds5)"
   ]
  },
  {
   "cell_type": "code",
   "execution_count": 49,
   "id": "4123a24d",
   "metadata": {},
   "outputs": [
    {
     "data": {
      "text/plain": [
       "0.9135282651072125"
      ]
     },
     "execution_count": 49,
     "metadata": {},
     "output_type": "execute_result"
    }
   ],
   "source": [
    "f1_score(y_test, preds6)"
   ]
  },
  {
   "cell_type": "code",
   "execution_count": 51,
   "id": "857eb100",
   "metadata": {},
   "outputs": [],
   "source": [
    "#VC = VotingClassifier()"
   ]
  },
  {
   "cell_type": "code",
   "execution_count": null,
   "id": "5f5a1616",
   "metadata": {},
   "outputs": [],
   "source": [
    "vc = VotingClassifier([\n",
    "    (\"ada\", ada),\n",
    "    (\"gb\", gb),\n",
    "    (\"rf\", rf)\n",
    "])\n",
    "vc.fit(X_train, y_train)"
   ]
  },
  {
   "cell_type": "code",
   "execution_count": 246,
   "id": "d0883ffe",
   "metadata": {},
   "outputs": [],
   "source": [
    "vcpreds = vc.predict(X_train)"
   ]
  },
  {
   "cell_type": "code",
   "execution_count": 247,
   "id": "568256c1",
   "metadata": {},
   "outputs": [
    {
     "data": {
      "text/plain": [
       "0.9215701637546032"
      ]
     },
     "execution_count": 247,
     "metadata": {},
     "output_type": "execute_result"
    }
   ],
   "source": [
    "f1_score(y_train, vcpreds)"
   ]
  },
  {
   "cell_type": "code",
   "execution_count": 248,
   "id": "c2855e89",
   "metadata": {},
   "outputs": [],
   "source": [
    "vcpreds2 = vc.predict(X_test)"
   ]
  },
  {
   "cell_type": "code",
   "execution_count": 249,
   "id": "96a85aec",
   "metadata": {},
   "outputs": [
    {
     "data": {
      "text/plain": [
       "0.9114160948222084"
      ]
     },
     "execution_count": 249,
     "metadata": {},
     "output_type": "execute_result"
    }
   ],
   "source": [
    "f1_score(y_test, vcpreds2)"
   ]
  },
  {
   "cell_type": "code",
   "execution_count": 109,
   "id": "571ebc31",
   "metadata": {},
   "outputs": [],
   "source": [
    "df_new=pd.read_csv('../data/test_data.csv')"
   ]
  },
  {
   "cell_type": "code",
   "execution_count": 110,
   "id": "03a88fa4",
   "metadata": {
    "scrolled": true
   },
   "outputs": [
    {
     "data": {
      "text/html": [
       "<div>\n",
       "<style scoped>\n",
       "    .dataframe tbody tr th:only-of-type {\n",
       "        vertical-align: middle;\n",
       "    }\n",
       "\n",
       "    .dataframe tbody tr th {\n",
       "        vertical-align: top;\n",
       "    }\n",
       "\n",
       "    .dataframe thead th {\n",
       "        text-align: right;\n",
       "    }\n",
       "</style>\n",
       "<table border=\"1\" class=\"dataframe\">\n",
       "  <thead>\n",
       "    <tr style=\"text-align: right;\">\n",
       "      <th></th>\n",
       "      <th>age</th>\n",
       "      <th>workclass</th>\n",
       "      <th>fnlwgt</th>\n",
       "      <th>education</th>\n",
       "      <th>education-num</th>\n",
       "      <th>marital-status</th>\n",
       "      <th>occupation</th>\n",
       "      <th>relationship</th>\n",
       "      <th>sex</th>\n",
       "      <th>capital-gain</th>\n",
       "      <th>capital-loss</th>\n",
       "      <th>hours-per-week</th>\n",
       "      <th>native-country</th>\n",
       "    </tr>\n",
       "  </thead>\n",
       "  <tbody>\n",
       "    <tr>\n",
       "      <th>0</th>\n",
       "      <td>25</td>\n",
       "      <td>Private</td>\n",
       "      <td>226802</td>\n",
       "      <td>11th</td>\n",
       "      <td>7</td>\n",
       "      <td>Never-married</td>\n",
       "      <td>Machine-op-inspct</td>\n",
       "      <td>Own-child</td>\n",
       "      <td>Male</td>\n",
       "      <td>0</td>\n",
       "      <td>0</td>\n",
       "      <td>40</td>\n",
       "      <td>United-States</td>\n",
       "    </tr>\n",
       "    <tr>\n",
       "      <th>1</th>\n",
       "      <td>38</td>\n",
       "      <td>Private</td>\n",
       "      <td>89814</td>\n",
       "      <td>HS-grad</td>\n",
       "      <td>9</td>\n",
       "      <td>Married-civ-spouse</td>\n",
       "      <td>Farming-fishing</td>\n",
       "      <td>Husband</td>\n",
       "      <td>Male</td>\n",
       "      <td>0</td>\n",
       "      <td>0</td>\n",
       "      <td>50</td>\n",
       "      <td>United-States</td>\n",
       "    </tr>\n",
       "    <tr>\n",
       "      <th>2</th>\n",
       "      <td>28</td>\n",
       "      <td>Local-gov</td>\n",
       "      <td>336951</td>\n",
       "      <td>Assoc-acdm</td>\n",
       "      <td>12</td>\n",
       "      <td>Married-civ-spouse</td>\n",
       "      <td>Protective-serv</td>\n",
       "      <td>Husband</td>\n",
       "      <td>Male</td>\n",
       "      <td>0</td>\n",
       "      <td>0</td>\n",
       "      <td>40</td>\n",
       "      <td>United-States</td>\n",
       "    </tr>\n",
       "    <tr>\n",
       "      <th>3</th>\n",
       "      <td>44</td>\n",
       "      <td>Private</td>\n",
       "      <td>160323</td>\n",
       "      <td>Some-college</td>\n",
       "      <td>10</td>\n",
       "      <td>Married-civ-spouse</td>\n",
       "      <td>Machine-op-inspct</td>\n",
       "      <td>Husband</td>\n",
       "      <td>Male</td>\n",
       "      <td>7688</td>\n",
       "      <td>0</td>\n",
       "      <td>40</td>\n",
       "      <td>United-States</td>\n",
       "    </tr>\n",
       "    <tr>\n",
       "      <th>4</th>\n",
       "      <td>18</td>\n",
       "      <td>?</td>\n",
       "      <td>103497</td>\n",
       "      <td>Some-college</td>\n",
       "      <td>10</td>\n",
       "      <td>Never-married</td>\n",
       "      <td>?</td>\n",
       "      <td>Own-child</td>\n",
       "      <td>Female</td>\n",
       "      <td>0</td>\n",
       "      <td>0</td>\n",
       "      <td>30</td>\n",
       "      <td>United-States</td>\n",
       "    </tr>\n",
       "  </tbody>\n",
       "</table>\n",
       "</div>"
      ],
      "text/plain": [
       "   age   workclass  fnlwgt      education  education-num       marital-status  \\\n",
       "0   25     Private  226802           11th              7        Never-married   \n",
       "1   38     Private   89814        HS-grad              9   Married-civ-spouse   \n",
       "2   28   Local-gov  336951     Assoc-acdm             12   Married-civ-spouse   \n",
       "3   44     Private  160323   Some-college             10   Married-civ-spouse   \n",
       "4   18           ?  103497   Some-college             10        Never-married   \n",
       "\n",
       "           occupation relationship      sex  capital-gain  capital-loss  \\\n",
       "0   Machine-op-inspct    Own-child     Male             0             0   \n",
       "1     Farming-fishing      Husband     Male             0             0   \n",
       "2     Protective-serv      Husband     Male             0             0   \n",
       "3   Machine-op-inspct      Husband     Male          7688             0   \n",
       "4                   ?    Own-child   Female             0             0   \n",
       "\n",
       "   hours-per-week  native-country  \n",
       "0              40   United-States  \n",
       "1              50   United-States  \n",
       "2              40   United-States  \n",
       "3              40   United-States  \n",
       "4              30   United-States  "
      ]
     },
     "execution_count": 110,
     "metadata": {},
     "output_type": "execute_result"
    }
   ],
   "source": [
    "df_new.head()"
   ]
  },
  {
   "cell_type": "code",
   "execution_count": 111,
   "id": "951b11ab",
   "metadata": {},
   "outputs": [],
   "source": [
    "df_new['wage'] = df['wage']  "
   ]
  },
  {
   "cell_type": "code",
   "execution_count": 112,
   "id": "21d6ec47",
   "metadata": {},
   "outputs": [],
   "source": [
    "df_new['native-us'] = np.where(df_new['native-country']== ' United-States', 1, 0)\n",
    "df_new.drop(columns=['education','native-country'],inplace=True)\n",
    "df_new['workclass'].replace(' ?', df_new['workclass'].mode()[0], inplace = True)\n",
    "df_new['wage']=df_new['wage'].map({' <=50K':1,' >50K':0})\n",
    "\n",
    "df_new['occupation'].replace(' ?', df_new['occupation'].mode()[0], inplace = True)\n",
    "df_new=pd.get_dummies(df_new,columns=['workclass','marital-status', 'occupation', 'relationship', 'sex'],drop_first=True)"
   ]
  },
  {
   "cell_type": "code",
   "execution_count": 113,
   "id": "32007bb5",
   "metadata": {},
   "outputs": [],
   "source": [
    "list=['marital-status_ Married-civ-spouse', 'education-num',\n",
    "       'marital-status_ Never-married', 'age', 'hours-per-week',\n",
    "       'relationship_ Own-child', 'sex_ Male', 'occupation_ Exec-managerial',\n",
    "        'relationship_ Not-in-family',\n",
    "       'occupation_ Other-service', 'relationship_ Unmarried',\n",
    "       'workclass_ Self-emp-inc', 'workclass_ Private', 'relationship_ Wife',\n",
    "       'occupation_ Prof-specialty', 'occupation_ Handlers-cleaners',\n",
    "       'relationship_ Other-relative', 'marital-status_ Separated',\n",
    "       'occupation_ Machine-op-inspct', 'wage']"
   ]
  },
  {
   "cell_type": "code",
   "execution_count": 114,
   "id": "090e7cc3",
   "metadata": {},
   "outputs": [],
   "source": [
    "X_new=df_new[list]"
   ]
  },
  {
   "cell_type": "code",
   "execution_count": 117,
   "id": "973eda22",
   "metadata": {
    "scrolled": true
   },
   "outputs": [
    {
     "name": "stderr",
     "output_type": "stream",
     "text": [
      "/var/folders/qs/gg9by_3j16l296v6k689jf1m0000gn/T/ipykernel_6267/3687845619.py:1: SettingWithCopyWarning: \n",
      "A value is trying to be set on a copy of a slice from a DataFrame.\n",
      "Try using .loc[row_indexer,col_indexer] = value instead\n",
      "\n",
      "See the caveats in the documentation: https://pandas.pydata.org/pandas-docs/stable/user_guide/indexing.html#returning-a-view-versus-a-copy\n",
      "  X_new['wage'] = X_new['wage'].fillna(1)\n"
     ]
    }
   ],
   "source": [
    "X_new['wage'] = X_new['wage'].fillna(1)"
   ]
  },
  {
   "cell_type": "code",
   "execution_count": 118,
   "id": "e3f36bca",
   "metadata": {},
   "outputs": [
    {
     "name": "stderr",
     "output_type": "stream",
     "text": [
      "/Users/dimarhill/opt/anaconda3/lib/python3.9/site-packages/sklearn/base.py:493: FutureWarning: The feature names should match those that were passed during fit. Starting version 1.2, an error will be raised.\n",
      "Feature names unseen at fit time:\n",
      "- wage\n",
      "Feature names seen at fit time, yet now missing:\n",
      "- net-capital\n",
      "\n",
      "  warnings.warn(message, FutureWarning)\n"
     ]
    }
   ],
   "source": [
    "output_list=(ada).predict(X_new)"
   ]
  },
  {
   "cell_type": "code",
   "execution_count": null,
   "id": "c9c11aa7",
   "metadata": {},
   "outputs": [],
   "source": [
    "output_df=pd.DataFrame()\n",
    "output_df['Predictions']=pred\n",
    "output_df.tocsv('results.csv',drop_index=True)"
   ]
  }
 ],
 "metadata": {
  "kernelspec": {
   "display_name": "Python 3 (ipykernel)",
   "language": "python",
   "name": "python3"
  },
  "language_info": {
   "codemirror_mode": {
    "name": "ipython",
    "version": 3
   },
   "file_extension": ".py",
   "mimetype": "text/x-python",
   "name": "python",
   "nbconvert_exporter": "python",
   "pygments_lexer": "ipython3",
   "version": "3.9.12"
  }
 },
 "nbformat": 4,
 "nbformat_minor": 5
}
